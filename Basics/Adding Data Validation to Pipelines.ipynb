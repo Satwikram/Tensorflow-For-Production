{
  "nbformat": 4,
  "nbformat_minor": 0,
  "metadata": {
    "colab": {
      "name": "Adding Data Validation to Pipelines.ipynb",
      "provenance": [],
      "authorship_tag": "ABX9TyMuGVzD63NyF7l51YZ+ez2d",
      "include_colab_link": true
    },
    "kernelspec": {
      "name": "python3",
      "display_name": "Python 3"
    },
    "language_info": {
      "name": "python"
    },
    "accelerator": "TPU"
  },
  "cells": [
    {
      "cell_type": "markdown",
      "metadata": {
        "id": "view-in-github",
        "colab_type": "text"
      },
      "source": [
        "<a href=\"https://colab.research.google.com/github/Satwikram/Tensorflow-For-Production/blob/main/Basics/Adding%20Data%20Validation%20to%20Pipelines.ipynb\" target=\"_parent\"><img src=\"https://colab.research.google.com/assets/colab-badge.svg\" alt=\"Open In Colab\"/></a>"
      ]
    },
    {
      "cell_type": "markdown",
      "metadata": {
        "id": "92_2bT5rzYNo"
      },
      "source": [
        "### Author: Satwik Ram K\n",
        "\n",
        "### Adding Data Validation to Pipelines"
      ]
    },
    {
      "cell_type": "code",
      "metadata": {
        "id": "fdlt8xHvS17N"
      },
      "source": [
        ""
      ],
      "execution_count": null,
      "outputs": []
    }
  ]
}