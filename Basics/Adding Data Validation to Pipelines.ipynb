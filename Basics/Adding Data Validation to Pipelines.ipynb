{
  "nbformat": 4,
  "nbformat_minor": 0,
  "metadata": {
    "colab": {
      "name": "Adding Data Validation to Pipelines.ipynb",
      "provenance": [],
      "collapsed_sections": [],
      "authorship_tag": "ABX9TyMwDDj7gSojjoxF4hIG+zD9",
      "include_colab_link": true
    },
    "kernelspec": {
      "name": "python3",
      "display_name": "Python 3"
    },
    "language_info": {
      "name": "python"
    },
    "accelerator": "TPU"
  },
  "cells": [
    {
      "cell_type": "markdown",
      "metadata": {
        "id": "view-in-github",
        "colab_type": "text"
      },
      "source": [
        "<a href=\"https://colab.research.google.com/github/Satwikram/Tensorflow-For-Production/blob/main/Basics/Adding%20Data%20Validation%20to%20Pipelines.ipynb\" target=\"_parent\"><img src=\"https://colab.research.google.com/assets/colab-badge.svg\" alt=\"Open In Colab\"/></a>"
      ]
    },
    {
      "cell_type": "markdown",
      "metadata": {
        "id": "92_2bT5rzYNo"
      },
      "source": [
        "### Author: Satwik Ram K\n",
        "\n",
        "### Adding Data Validation to Pipelines"
      ]
    },
    {
      "cell_type": "markdown",
      "metadata": {
        "id": "8XzeSh_Hz42i"
      },
      "source": [
        "### Upgading pip"
      ]
    },
    {
      "cell_type": "code",
      "metadata": {
        "id": "fdlt8xHvS17N",
        "colab": {
          "base_uri": "https://localhost:8080/"
        },
        "outputId": "d9902e1c-e743-41c3-f7b7-5274e98b6d47"
      },
      "source": [
        "try:\n",
        "  import colab\n",
        "  !pip install -q --upgrade pip\n",
        "except:\n",
        "  pass"
      ],
      "execution_count": 1,
      "outputs": [
        {
          "output_type": "stream",
          "text": [
            "\u001b[?25l\r\u001b[K     |▏                               | 10kB 17.5MB/s eta 0:00:01\r\u001b[K     |▍                               | 20kB 22.2MB/s eta 0:00:01\r\u001b[K     |▋                               | 30kB 11.7MB/s eta 0:00:01\r\u001b[K     |▉                               | 40kB 9.7MB/s eta 0:00:01\r\u001b[K     |█                               | 51kB 5.2MB/s eta 0:00:01\r\u001b[K     |█▎                              | 61kB 5.2MB/s eta 0:00:01\r\u001b[K     |█▌                              | 71kB 5.9MB/s eta 0:00:01\r\u001b[K     |█▊                              | 81kB 6.4MB/s eta 0:00:01\r\u001b[K     |██                              | 92kB 6.2MB/s eta 0:00:01\r\u001b[K     |██▏                             | 102kB 5.0MB/s eta 0:00:01\r\u001b[K     |██▎                             | 112kB 5.0MB/s eta 0:00:01\r\u001b[K     |██▌                             | 122kB 5.0MB/s eta 0:00:01\r\u001b[K     |██▊                             | 133kB 5.0MB/s eta 0:00:01\r\u001b[K     |███                             | 143kB 5.0MB/s eta 0:00:01\r\u001b[K     |███▏                            | 153kB 5.0MB/s eta 0:00:01\r\u001b[K     |███▍                            | 163kB 5.0MB/s eta 0:00:01\r\u001b[K     |███▋                            | 174kB 5.0MB/s eta 0:00:01\r\u001b[K     |███▉                            | 184kB 5.0MB/s eta 0:00:01\r\u001b[K     |████                            | 194kB 5.0MB/s eta 0:00:01\r\u001b[K     |████▎                           | 204kB 5.0MB/s eta 0:00:01\r\u001b[K     |████▌                           | 215kB 5.0MB/s eta 0:00:01\r\u001b[K     |████▋                           | 225kB 5.0MB/s eta 0:00:01\r\u001b[K     |████▉                           | 235kB 5.0MB/s eta 0:00:01\r\u001b[K     |█████                           | 245kB 5.0MB/s eta 0:00:01\r\u001b[K     |█████▎                          | 256kB 5.0MB/s eta 0:00:01\r\u001b[K     |█████▌                          | 266kB 5.0MB/s eta 0:00:01\r\u001b[K     |█████▊                          | 276kB 5.0MB/s eta 0:00:01\r\u001b[K     |██████                          | 286kB 5.0MB/s eta 0:00:01\r\u001b[K     |██████▏                         | 296kB 5.0MB/s eta 0:00:01\r\u001b[K     |██████▍                         | 307kB 5.0MB/s eta 0:00:01\r\u001b[K     |██████▋                         | 317kB 5.0MB/s eta 0:00:01\r\u001b[K     |██████▊                         | 327kB 5.0MB/s eta 0:00:01\r\u001b[K     |███████                         | 337kB 5.0MB/s eta 0:00:01\r\u001b[K     |███████▏                        | 348kB 5.0MB/s eta 0:00:01\r\u001b[K     |███████▍                        | 358kB 5.0MB/s eta 0:00:01\r\u001b[K     |███████▋                        | 368kB 5.0MB/s eta 0:00:01\r\u001b[K     |███████▉                        | 378kB 5.0MB/s eta 0:00:01\r\u001b[K     |████████                        | 389kB 5.0MB/s eta 0:00:01\r\u001b[K     |████████▎                       | 399kB 5.0MB/s eta 0:00:01\r\u001b[K     |████████▌                       | 409kB 5.0MB/s eta 0:00:01\r\u001b[K     |████████▊                       | 419kB 5.0MB/s eta 0:00:01\r\u001b[K     |█████████                       | 430kB 5.0MB/s eta 0:00:01\r\u001b[K     |█████████                       | 440kB 5.0MB/s eta 0:00:01\r\u001b[K     |█████████▎                      | 450kB 5.0MB/s eta 0:00:01\r\u001b[K     |█████████▌                      | 460kB 5.0MB/s eta 0:00:01\r\u001b[K     |█████████▊                      | 471kB 5.0MB/s eta 0:00:01\r\u001b[K     |██████████                      | 481kB 5.0MB/s eta 0:00:01\r\u001b[K     |██████████▏                     | 491kB 5.0MB/s eta 0:00:01\r\u001b[K     |██████████▍                     | 501kB 5.0MB/s eta 0:00:01\r\u001b[K     |██████████▋                     | 512kB 5.0MB/s eta 0:00:01\r\u001b[K     |██████████▉                     | 522kB 5.0MB/s eta 0:00:01\r\u001b[K     |███████████                     | 532kB 5.0MB/s eta 0:00:01\r\u001b[K     |███████████▏                    | 542kB 5.0MB/s eta 0:00:01\r\u001b[K     |███████████▍                    | 552kB 5.0MB/s eta 0:00:01\r\u001b[K     |███████████▋                    | 563kB 5.0MB/s eta 0:00:01\r\u001b[K     |███████████▉                    | 573kB 5.0MB/s eta 0:00:01\r\u001b[K     |████████████                    | 583kB 5.0MB/s eta 0:00:01\r\u001b[K     |████████████▎                   | 593kB 5.0MB/s eta 0:00:01\r\u001b[K     |████████████▌                   | 604kB 5.0MB/s eta 0:00:01\r\u001b[K     |████████████▊                   | 614kB 5.0MB/s eta 0:00:01\r\u001b[K     |█████████████                   | 624kB 5.0MB/s eta 0:00:01\r\u001b[K     |█████████████▏                  | 634kB 5.0MB/s eta 0:00:01\r\u001b[K     |█████████████▍                  | 645kB 5.0MB/s eta 0:00:01\r\u001b[K     |█████████████▌                  | 655kB 5.0MB/s eta 0:00:01\r\u001b[K     |█████████████▊                  | 665kB 5.0MB/s eta 0:00:01\r\u001b[K     |██████████████                  | 675kB 5.0MB/s eta 0:00:01\r\u001b[K     |██████████████▏                 | 686kB 5.0MB/s eta 0:00:01\r\u001b[K     |██████████████▍                 | 696kB 5.0MB/s eta 0:00:01\r\u001b[K     |██████████████▋                 | 706kB 5.0MB/s eta 0:00:01\r\u001b[K     |██████████████▉                 | 716kB 5.0MB/s eta 0:00:01\r\u001b[K     |███████████████                 | 727kB 5.0MB/s eta 0:00:01\r\u001b[K     |███████████████▎                | 737kB 5.0MB/s eta 0:00:01\r\u001b[K     |███████████████▌                | 747kB 5.0MB/s eta 0:00:01\r\u001b[K     |███████████████▊                | 757kB 5.0MB/s eta 0:00:01\r\u001b[K     |███████████████▉                | 768kB 5.0MB/s eta 0:00:01\r\u001b[K     |████████████████                | 778kB 5.0MB/s eta 0:00:01\r\u001b[K     |████████████████▎               | 788kB 5.0MB/s eta 0:00:01\r\u001b[K     |████████████████▌               | 798kB 5.0MB/s eta 0:00:01\r\u001b[K     |████████████████▊               | 808kB 5.0MB/s eta 0:00:01\r\u001b[K     |█████████████████               | 819kB 5.0MB/s eta 0:00:01\r\u001b[K     |█████████████████▏              | 829kB 5.0MB/s eta 0:00:01\r\u001b[K     |█████████████████▍              | 839kB 5.0MB/s eta 0:00:01\r\u001b[K     |█████████████████▋              | 849kB 5.0MB/s eta 0:00:01\r\u001b[K     |█████████████████▉              | 860kB 5.0MB/s eta 0:00:01\r\u001b[K     |██████████████████              | 870kB 5.0MB/s eta 0:00:01\r\u001b[K     |██████████████████▏             | 880kB 5.0MB/s eta 0:00:01\r\u001b[K     |██████████████████▍             | 890kB 5.0MB/s eta 0:00:01\r\u001b[K     |██████████████████▋             | 901kB 5.0MB/s eta 0:00:01\r\u001b[K     |██████████████████▉             | 911kB 5.0MB/s eta 0:00:01\r\u001b[K     |███████████████████             | 921kB 5.0MB/s eta 0:00:01\r\u001b[K     |███████████████████▎            | 931kB 5.0MB/s eta 0:00:01\r\u001b[K     |███████████████████▌            | 942kB 5.0MB/s eta 0:00:01\r\u001b[K     |███████████████████▊            | 952kB 5.0MB/s eta 0:00:01\r\u001b[K     |████████████████████            | 962kB 5.0MB/s eta 0:00:01\r\u001b[K     |████████████████████▏           | 972kB 5.0MB/s eta 0:00:01\r\u001b[K     |████████████████████▎           | 983kB 5.0MB/s eta 0:00:01\r\u001b[K     |████████████████████▌           | 993kB 5.0MB/s eta 0:00:01\r\u001b[K     |████████████████████▊           | 1.0MB 5.0MB/s eta 0:00:01\r\u001b[K     |█████████████████████           | 1.0MB 5.0MB/s eta 0:00:01\r\u001b[K     |█████████████████████▏          | 1.0MB 5.0MB/s eta 0:00:01\r\u001b[K     |█████████████████████▍          | 1.0MB 5.0MB/s eta 0:00:01\r\u001b[K     |█████████████████████▋          | 1.0MB 5.0MB/s eta 0:00:01\r\u001b[K     |█████████████████████▉          | 1.1MB 5.0MB/s eta 0:00:01\r\u001b[K     |██████████████████████          | 1.1MB 5.0MB/s eta 0:00:01\r\u001b[K     |██████████████████████▎         | 1.1MB 5.0MB/s eta 0:00:01\r\u001b[K     |██████████████████████▍         | 1.1MB 5.0MB/s eta 0:00:01\r\u001b[K     |██████████████████████▋         | 1.1MB 5.0MB/s eta 0:00:01\r\u001b[K     |██████████████████████▉         | 1.1MB 5.0MB/s eta 0:00:01\r\u001b[K     |███████████████████████         | 1.1MB 5.0MB/s eta 0:00:01\r\u001b[K     |███████████████████████▎        | 1.1MB 5.0MB/s eta 0:00:01\r\u001b[K     |███████████████████████▌        | 1.1MB 5.0MB/s eta 0:00:01\r\u001b[K     |███████████████████████▊        | 1.1MB 5.0MB/s eta 0:00:01\r\u001b[K     |████████████████████████        | 1.2MB 5.0MB/s eta 0:00:01\r\u001b[K     |████████████████████████▏       | 1.2MB 5.0MB/s eta 0:00:01\r\u001b[K     |████████████████████████▍       | 1.2MB 5.0MB/s eta 0:00:01\r\u001b[K     |████████████████████████▋       | 1.2MB 5.0MB/s eta 0:00:01\r\u001b[K     |████████████████████████▊       | 1.2MB 5.0MB/s eta 0:00:01\r\u001b[K     |█████████████████████████       | 1.2MB 5.0MB/s eta 0:00:01\r\u001b[K     |█████████████████████████▏      | 1.2MB 5.0MB/s eta 0:00:01\r\u001b[K     |█████████████████████████▍      | 1.2MB 5.0MB/s eta 0:00:01\r\u001b[K     |█████████████████████████▋      | 1.2MB 5.0MB/s eta 0:00:01\r\u001b[K     |█████████████████████████▉      | 1.2MB 5.0MB/s eta 0:00:01\r\u001b[K     |██████████████████████████      | 1.3MB 5.0MB/s eta 0:00:01\r\u001b[K     |██████████████████████████▎     | 1.3MB 5.0MB/s eta 0:00:01\r\u001b[K     |██████████████████████████▌     | 1.3MB 5.0MB/s eta 0:00:01\r\u001b[K     |██████████████████████████▊     | 1.3MB 5.0MB/s eta 0:00:01\r\u001b[K     |███████████████████████████     | 1.3MB 5.0MB/s eta 0:00:01\r\u001b[K     |███████████████████████████     | 1.3MB 5.0MB/s eta 0:00:01\r\u001b[K     |███████████████████████████▎    | 1.3MB 5.0MB/s eta 0:00:01\r\u001b[K     |███████████████████████████▌    | 1.3MB 5.0MB/s eta 0:00:01\r\u001b[K     |███████████████████████████▊    | 1.3MB 5.0MB/s eta 0:00:01\r\u001b[K     |████████████████████████████    | 1.4MB 5.0MB/s eta 0:00:01\r\u001b[K     |████████████████████████████▏   | 1.4MB 5.0MB/s eta 0:00:01\r\u001b[K     |████████████████████████████▍   | 1.4MB 5.0MB/s eta 0:00:01\r\u001b[K     |████████████████████████████▋   | 1.4MB 5.0MB/s eta 0:00:01\r\u001b[K     |████████████████████████████▉   | 1.4MB 5.0MB/s eta 0:00:01\r\u001b[K     |█████████████████████████████   | 1.4MB 5.0MB/s eta 0:00:01\r\u001b[K     |█████████████████████████████▏  | 1.4MB 5.0MB/s eta 0:00:01\r\u001b[K     |█████████████████████████████▍  | 1.4MB 5.0MB/s eta 0:00:01\r\u001b[K     |█████████████████████████████▋  | 1.4MB 5.0MB/s eta 0:00:01\r\u001b[K     |█████████████████████████████▉  | 1.4MB 5.0MB/s eta 0:00:01\r\u001b[K     |██████████████████████████████  | 1.5MB 5.0MB/s eta 0:00:01\r\u001b[K     |██████████████████████████████▎ | 1.5MB 5.0MB/s eta 0:00:01\r\u001b[K     |██████████████████████████████▌ | 1.5MB 5.0MB/s eta 0:00:01\r\u001b[K     |██████████████████████████████▊ | 1.5MB 5.0MB/s eta 0:00:01\r\u001b[K     |███████████████████████████████ | 1.5MB 5.0MB/s eta 0:00:01\r\u001b[K     |███████████████████████████████▏| 1.5MB 5.0MB/s eta 0:00:01\r\u001b[K     |███████████████████████████████▍| 1.5MB 5.0MB/s eta 0:00:01\r\u001b[K     |███████████████████████████████▌| 1.5MB 5.0MB/s eta 0:00:01\r\u001b[K     |███████████████████████████████▊| 1.5MB 5.0MB/s eta 0:00:01\r\u001b[K     |████████████████████████████████| 1.5MB 5.0MB/s eta 0:00:01\r\u001b[K     |████████████████████████████████| 1.6MB 5.0MB/s \n",
            "\u001b[?25h"
          ],
          "name": "stdout"
        }
      ]
    },
    {
      "cell_type": "markdown",
      "metadata": {
        "id": "zdqx-FRr0AjI"
      },
      "source": [
        "### Install TFX"
      ]
    },
    {
      "cell_type": "code",
      "metadata": {
        "id": "Qenn-u6cz78z"
      },
      "source": [
        "!pip install -q -U --use-deprecated=legacy-resolver tfx==0.27.0"
      ],
      "execution_count": null,
      "outputs": []
    },
    {
      "cell_type": "markdown",
      "metadata": {
        "id": "QPJxJp630W0x"
      },
      "source": [
        "### Basic Imports"
      ]
    },
    {
      "cell_type": "code",
      "metadata": {
        "id": "IhY_cY2U0E8X"
      },
      "source": [
        "import numpy as np\n",
        "import pandas as pd\n",
        "import tensorflow as tf\n",
        "import tfx\n",
        "import os\n",
        "import shutil"
      ],
      "execution_count": 3,
      "outputs": []
    },
    {
      "cell_type": "markdown",
      "metadata": {
        "id": "jKVMgiEN00N-"
      },
      "source": [
        "### Basic Dir"
      ]
    },
    {
      "cell_type": "code",
      "metadata": {
        "id": "xECYi6Zc0i4w"
      },
      "source": [
        "SCHEMA_PIPELINE_NAME = 'penguin-tfdv-schema'"
      ],
      "execution_count": 4,
      "outputs": []
    },
    {
      "cell_type": "code",
      "metadata": {
        "id": "qv-VXAYe0uE_"
      },
      "source": [
        "PIPELINE_NAME = 'penguin-tfdv'"
      ],
      "execution_count": 5,
      "outputs": []
    },
    {
      "cell_type": "code",
      "metadata": {
        "id": "8mYPuAJD0zma"
      },
      "source": [
        "SCHEMA_PIPELINE_ROOT = os.path.join('pipelines', SCHEMA_PIPELINE_NAME)\n",
        "PIPELINE_ROOT = os.path.join('pipelines', PIPELINE_NAME)"
      ],
      "execution_count": 6,
      "outputs": []
    },
    {
      "cell_type": "code",
      "metadata": {
        "id": "rg_v9ZLY07J3"
      },
      "source": [
        "SCHEMA_METADATA_PATH = os.path.join('metadata', SCHEMA_PIPELINE_NAME,\n",
        "                                    'metadata.db')\n",
        "METADATA_PATH = os.path.join('metadata', PIPELINE_NAME, 'metadata.db')"
      ],
      "execution_count": 7,
      "outputs": []
    },
    {
      "cell_type": "code",
      "metadata": {
        "id": "WyXzkohx1IC7"
      },
      "source": [
        "SERVING_MODEL_DIR = os.path.join('serving_model', PIPELINE_NAME)"
      ],
      "execution_count": 8,
      "outputs": []
    },
    {
      "cell_type": "code",
      "metadata": {
        "id": "hLCe8mE41LaM"
      },
      "source": [
        "from absl import logging\n",
        "logging.set_verbosity(logging.INFO)  # Set default logging level."
      ],
      "execution_count": 9,
      "outputs": []
    },
    {
      "cell_type": "markdown",
      "metadata": {
        "id": "4j_c30tR26eF"
      },
      "source": [
        "### Getting Dataset"
      ]
    },
    {
      "cell_type": "code",
      "metadata": {
        "colab": {
          "base_uri": "https://localhost:8080/"
        },
        "id": "gDL4nlnc22rS",
        "outputId": "4ca7b71d-dc16-41d5-873e-357d08d9d936"
      },
      "source": [
        "import urllib.request\n",
        "import tempfile\n",
        "\n",
        "DATA_ROOT = tempfile.mkdtemp(prefix='tfx-data')  # Create a temporary directory.\n",
        "_data_url = 'https://raw.githubusercontent.com/tensorflow/tfx/master/tfx/examples/penguin/data/penguins_processed.csv'\n",
        "_data_filepath = os.path.join(DATA_ROOT, \"data.csv\")\n",
        "urllib.request.urlretrieve(_data_url, _data_filepath)"
      ],
      "execution_count": 10,
      "outputs": [
        {
          "output_type": "execute_result",
          "data": {
            "text/plain": [
              "('/tmp/tfx-data7vjs_gzz/data.csv', <http.client.HTTPMessage at 0x7fd35d70ee10>)"
            ]
          },
          "metadata": {
            "tags": []
          },
          "execution_count": 10
        }
      ]
    },
    {
      "cell_type": "code",
      "metadata": {
        "colab": {
          "base_uri": "https://localhost:8080/"
        },
        "id": "Q05ivfUK3CHf",
        "outputId": "326de0d3-fe1c-4352-a42b-8e93e1d023c3"
      },
      "source": [
        "!head {_data_filepath}"
      ],
      "execution_count": 13,
      "outputs": [
        {
          "output_type": "stream",
          "text": [
            "species,culmen_length_mm,culmen_depth_mm,flipper_length_mm,body_mass_g\n",
            "0,0.2545454545454545,0.6666666666666666,0.15254237288135594,0.2916666666666667\n",
            "0,0.26909090909090905,0.5119047619047618,0.23728813559322035,0.3055555555555556\n",
            "0,0.29818181818181805,0.5833333333333334,0.3898305084745763,0.1527777777777778\n",
            "0,0.16727272727272732,0.7380952380952381,0.3559322033898305,0.20833333333333334\n",
            "0,0.26181818181818167,0.892857142857143,0.3050847457627119,0.2638888888888889\n",
            "0,0.24727272727272717,0.5595238095238096,0.15254237288135594,0.2569444444444444\n",
            "0,0.25818181818181823,0.773809523809524,0.3898305084745763,0.5486111111111112\n",
            "0,0.32727272727272727,0.5357142857142859,0.1694915254237288,0.1388888888888889\n",
            "0,0.23636363636363636,0.9642857142857142,0.3220338983050847,0.3055555555555556\n"
          ],
          "name": "stdout"
        }
      ]
    },
    {
      "cell_type": "markdown",
      "metadata": {
        "id": "UsTO_thv3Lr5"
      },
      "source": [
        "### Generate a preliminary schema"
      ]
    },
    {
      "cell_type": "code",
      "metadata": {
        "colab": {
          "base_uri": "https://localhost:8080/"
        },
        "id": "PgCuulXp3Eoz",
        "outputId": "17b6864e-36bd-48ea-d10b-51109f6d20e4"
      },
      "source": [
        "from tfx.components import CsvExampleGen, StatisticsGen, SchemaGen\n",
        "from tfx.orchestration import metadata, pipeline"
      ],
      "execution_count": 14,
      "outputs": [
        {
          "output_type": "stream",
          "text": [
            "WARNING:absl:RuntimeParameter is only supported on Cloud-based DAG runner currently.\n"
          ],
          "name": "stderr"
        }
      ]
    },
    {
      "cell_type": "code",
      "metadata": {
        "id": "iSKBRDFP4GoI"
      },
      "source": [
        "def _create_schema_pipeline(pipeline_name: str, pipeline_root: str, \n",
        "                            data_root: str, metadata_path: str) -> pipeline.Pipeline:\n",
        "\n",
        "\n",
        "  example_gen = CsvExampleGen(input_base = data_root)\n",
        "\n",
        "  statistics_gen = StatisticsGen(examples = example_gen.outputs['examples'])\n",
        "\n",
        "  schema_gen = SchemaGen(statistics = statistics_gen.outputs['statistics'], infer_feature_shape=True)\n",
        "\n",
        "  components = [example_gen, \n",
        "                statistics_gen,\n",
        "                schema_gen]\n",
        "\n",
        "  return pipeline.Pipeline(\n",
        "      pipeline_name = pipeline_name,\n",
        "      pipeline_root = pipeline_root,\n",
        "      metadata_connection_config = metadata.sqlite_metadata_connection_config(\n",
        "          metadata_path),\n",
        "      components=components)"
      ],
      "execution_count": 15,
      "outputs": []
    },
    {
      "cell_type": "markdown",
      "metadata": {
        "id": "GeSfSBem6M5w"
      },
      "source": [
        "### Run the pipeline"
      ]
    },
    {
      "cell_type": "code",
      "metadata": {
        "id": "53XcEdnC6KJu"
      },
      "source": [
        "from tfx.orchestration.local import local_dag_runner"
      ],
      "execution_count": 16,
      "outputs": []
    },
    {
      "cell_type": "code",
      "metadata": {
        "colab": {
          "base_uri": "https://localhost:8080/",
          "height": 802
        },
        "id": "rRKkKaht6P1I",
        "outputId": "8b373315-e88d-42f3-f7e0-e23220eb4f38"
      },
      "source": [
        "local_dag_runner.LocalDagRunner().run(_create_schema_pipeline(\n",
        "\n",
        "      pipeline_name = SCHEMA_PIPELINE_NAME,\n",
        "\n",
        "      pipeline_root = SCHEMA_PIPELINE_ROOT,\n",
        "\n",
        "      data_root = DATA_ROOT, \n",
        "\n",
        "      metadata_path = SCHEMA_METADATA_PATH ))  "
      ],
      "execution_count": 17,
      "outputs": [
        {
          "output_type": "stream",
          "text": [
            "INFO:absl:Excluding no splits because exclude_splits is not set.\n",
            "INFO:absl:Excluding no splits because exclude_splits is not set.\n",
            "INFO:absl:Component CsvExampleGen is running.\n",
            "INFO:absl:Running driver for CsvExampleGen\n",
            "INFO:absl:MetadataStore with DB connection initialized\n",
            "INFO:absl:select span and version = (0, None)\n",
            "INFO:absl:latest span and version = (0, None)\n",
            "INFO:absl:Running executor for CsvExampleGen\n",
            "INFO:absl:Generating examples.\n",
            "WARNING:apache_beam.runners.interactive.interactive_environment:Dependencies required for Interactive Beam PCollection visualization are not available, please use: `pip install apache-beam[interactive]` to install necessary dependencies to enable all data visualization features.\n"
          ],
          "name": "stderr"
        },
        {
          "output_type": "display_data",
          "data": {
            "application/javascript": [
              "\n",
              "        if (typeof window.interactive_beam_jquery == 'undefined') {\n",
              "          var jqueryScript = document.createElement('script');\n",
              "          jqueryScript.src = 'https://code.jquery.com/jquery-3.4.1.slim.min.js';\n",
              "          jqueryScript.type = 'text/javascript';\n",
              "          jqueryScript.onload = function() {\n",
              "            var datatableScript = document.createElement('script');\n",
              "            datatableScript.src = 'https://cdn.datatables.net/1.10.20/js/jquery.dataTables.min.js';\n",
              "            datatableScript.type = 'text/javascript';\n",
              "            datatableScript.onload = function() {\n",
              "              window.interactive_beam_jquery = jQuery.noConflict(true);\n",
              "              window.interactive_beam_jquery(document).ready(function($){\n",
              "                \n",
              "              });\n",
              "            }\n",
              "            document.head.appendChild(datatableScript);\n",
              "          };\n",
              "          document.head.appendChild(jqueryScript);\n",
              "        } else {\n",
              "          window.interactive_beam_jquery(document).ready(function($){\n",
              "            \n",
              "          });\n",
              "        }"
            ]
          },
          "metadata": {
            "tags": []
          }
        },
        {
          "output_type": "stream",
          "text": [
            "INFO:absl:Processing input csv data /tmp/tfx-data7vjs_gzz/* to TFExample.\n",
            "WARNING:apache_beam.io.tfrecordio:Couldn't find python-snappy so the implementation of _TFRecordUtil._masked_crc32c is not as fast as it could be.\n",
            "INFO:absl:Examples generated.\n",
            "INFO:absl:Running publisher for CsvExampleGen\n",
            "INFO:absl:MetadataStore with DB connection initialized\n",
            "INFO:absl:Component CsvExampleGen is finished.\n",
            "INFO:absl:Component StatisticsGen is running.\n",
            "INFO:absl:Running driver for StatisticsGen\n",
            "INFO:absl:MetadataStore with DB connection initialized\n",
            "INFO:absl:Running executor for StatisticsGen\n",
            "INFO:absl:Generating statistics for split train.\n",
            "INFO:absl:Statistics for split train written to pipelines/penguin-tfdv-schema/StatisticsGen/statistics/2/train.\n",
            "INFO:absl:Generating statistics for split eval.\n",
            "INFO:absl:Statistics for split eval written to pipelines/penguin-tfdv-schema/StatisticsGen/statistics/2/eval.\n",
            "INFO:absl:Running publisher for StatisticsGen\n",
            "INFO:absl:MetadataStore with DB connection initialized\n",
            "INFO:absl:Component StatisticsGen is finished.\n",
            "INFO:absl:Component SchemaGen is running.\n",
            "INFO:absl:Running driver for SchemaGen\n",
            "INFO:absl:MetadataStore with DB connection initialized\n",
            "INFO:absl:Running executor for SchemaGen\n",
            "INFO:absl:Processing schema from statistics for split train.\n"
          ],
          "name": "stderr"
        },
        {
          "output_type": "stream",
          "text": [
            "WARNING:tensorflow:From /usr/local/lib/python3.7/dist-packages/tensorflow_data_validation/utils/stats_util.py:247: tf_record_iterator (from tensorflow.python.lib.io.tf_record) is deprecated and will be removed in a future version.\n",
            "Instructions for updating:\n",
            "Use eager execution and: \n",
            "`tf.data.TFRecordDataset(path)`\n"
          ],
          "name": "stdout"
        },
        {
          "output_type": "stream",
          "text": [
            "WARNING:tensorflow:From /usr/local/lib/python3.7/dist-packages/tensorflow_data_validation/utils/stats_util.py:247: tf_record_iterator (from tensorflow.python.lib.io.tf_record) is deprecated and will be removed in a future version.\n",
            "Instructions for updating:\n",
            "Use eager execution and: \n",
            "`tf.data.TFRecordDataset(path)`\n",
            "INFO:absl:Processing schema from statistics for split eval.\n",
            "INFO:absl:Schema written to pipelines/penguin-tfdv-schema/SchemaGen/schema/3/schema.pbtxt.\n",
            "INFO:absl:Running publisher for SchemaGen\n",
            "INFO:absl:MetadataStore with DB connection initialized\n",
            "INFO:absl:Component SchemaGen is finished.\n"
          ],
          "name": "stderr"
        }
      ]
    },
    {
      "cell_type": "markdown",
      "metadata": {
        "id": "P1gjL3cB9hok"
      },
      "source": [
        "### Review outputs of the pipeline"
      ]
    },
    {
      "cell_type": "code",
      "metadata": {
        "id": "IkbySyZS84lf"
      },
      "source": [
        "from ml_metadata.proto import metadata_store_pb2\n",
        "from tfx.orchestration.portable.mlmd import execution_lib\n",
        "from tfx.types import standard_component_specs\n",
        "\n",
        "\n",
        "def get_latest_executions(metadata, pipeline_name):\n",
        "  \"\"\"Gets the execution objects for the latest run of the pipeline.\"\"\"\n",
        "  run_contexts = [\n",
        "        c for c in metadata.store.get_contexts_by_type('run')\n",
        "        if c.properties['pipeline_name'].string_value == pipeline_name\n",
        "    ]\n",
        "  if not run_contexts:\n",
        "    return []\n",
        "  # Pick the latest run context.\n",
        "  latest_context = max(run_contexts,\n",
        "                       key=lambda c: c.last_update_time_since_epoch)\n",
        "  return metadata.store.get_executions_by_context(latest_context.id)\n",
        "\n",
        "def get_artifacts_for_component_id(metadata, executions, component_id):\n",
        "  for execution in executions:\n",
        "    if execution.properties['component_id'].string_value == component_id:\n",
        "      return execution_lib.get_artifacts_dict(metadata, execution.id,\n",
        "                                              metadata_store_pb2.Event.OUTPUT)\n",
        "  raise RuntimeError(f'Execution not found for {component_id}')\n",
        "\n",
        "from tfx.orchestration.experimental.interactive import visualizations\n",
        "\n",
        "def visualize_artifacts(artifacts):\n",
        "  \"\"\"Visualizes artifacts using standard visualization modules.\"\"\"\n",
        "  for artifact in artifacts:\n",
        "    visualization = visualizations.get_registry().get_visualization(\n",
        "        artifact.type_name)\n",
        "    if visualization:\n",
        "      visualization.display(artifact)\n",
        "\n",
        "from tfx.orchestration.experimental.interactive import standard_visualizations\n",
        "standard_visualizations.register_standard_visualizations()\n",
        "\n",
        "from tfx.types import standard_artifacts"
      ],
      "execution_count": 18,
      "outputs": []
    },
    {
      "cell_type": "code",
      "metadata": {
        "colab": {
          "base_uri": "https://localhost:8080/"
        },
        "id": "W2V3hUIu9MVg",
        "outputId": "69620bbb-3c4f-41e3-e43b-6689a123b1d3"
      },
      "source": [
        "metadata_connection_config = metadata.sqlite_metadata_connection_config(\n",
        "              SCHEMA_METADATA_PATH)\n",
        "\n",
        "with metadata.Metadata(metadata_connection_config) as metadata_handler:\n",
        "  # Search component executions from the previous pipeline run.\n",
        "  executions = get_latest_executions(metadata_handler, SCHEMA_PIPELINE_NAME)\n",
        "\n",
        "  # Find output artifacts from MLMD.\n",
        "  stat_gen_output = get_artifacts_for_component_id(metadata_handler, executions,\n",
        "                                                   'StatisticsGen')\n",
        "  stats_artifacts = stat_gen_output[standard_component_specs.STATISTICS_KEY]\n",
        "\n",
        "  schema_gen_output = get_artifacts_for_component_id(metadata_handler,\n",
        "                                                     executions, 'SchemaGen')\n",
        "  schema_artifacts = schema_gen_output[standard_component_specs.SCHEMA_KEY]"
      ],
      "execution_count": 19,
      "outputs": [
        {
          "output_type": "stream",
          "text": [
            "INFO:absl:MetadataStore with DB connection initialized\n"
          ],
          "name": "stderr"
        }
      ]
    },
    {
      "cell_type": "code",
      "metadata": {
        "colab": {
          "base_uri": "https://localhost:8080/",
          "height": 1000
        },
        "id": "9rVo1lNH9o3K",
        "outputId": "ff526be1-e1b4-471b-ab5e-e94011472ab0"
      },
      "source": [
        "visualize_artifacts(stats_artifacts)"
      ],
      "execution_count": 20,
      "outputs": [
        {
          "output_type": "display_data",
          "data": {
            "text/html": [
              "<div><b>'train' split:</b></div><br/>"
            ],
            "text/plain": [
              "<IPython.core.display.HTML object>"
            ]
          },
          "metadata": {
            "tags": []
          }
        },
        {
          "output_type": "display_data",
          "data": {
            "text/html": [
              "<iframe id='facets-iframe' width=\"100%\" height=\"500px\"></iframe>\n",
              "        <script>\n",
              "        facets_iframe = document.getElementById('facets-iframe');\n",
              "        facets_html = '<script src=\"https://cdnjs.cloudflare.com/ajax/libs/webcomponentsjs/1.3.3/webcomponents-lite.js\"><\\/script><link rel=\"import\" href=\"https://raw.githubusercontent.com/PAIR-code/facets/master/facets-dist/facets-jupyter.html\"><facets-overview proto-input=\"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\"></facets-overview>';\n",
              "        facets_iframe.srcdoc = facets_html;\n",
              "         facets_iframe.id = \"\";\n",
              "         setTimeout(() => {\n",
              "           facets_iframe.setAttribute('height', facets_iframe.contentWindow.document.body.offsetHeight + 'px')\n",
              "         }, 1500)\n",
              "         </script>"
            ],
            "text/plain": [
              "<IPython.core.display.HTML object>"
            ]
          },
          "metadata": {
            "tags": []
          }
        },
        {
          "output_type": "display_data",
          "data": {
            "text/html": [
              "<div><b>'eval' split:</b></div><br/>"
            ],
            "text/plain": [
              "<IPython.core.display.HTML object>"
            ]
          },
          "metadata": {
            "tags": []
          }
        },
        {
          "output_type": "display_data",
          "data": {
            "text/html": [
              "<iframe id='facets-iframe' width=\"100%\" height=\"500px\"></iframe>\n",
              "        <script>\n",
              "        facets_iframe = document.getElementById('facets-iframe');\n",
              "        facets_html = '<script src=\"https://cdnjs.cloudflare.com/ajax/libs/webcomponentsjs/1.3.3/webcomponents-lite.js\"><\\/script><link rel=\"import\" href=\"https://raw.githubusercontent.com/PAIR-code/facets/master/facets-dist/facets-jupyter.html\"><facets-overview proto-input=\"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\"></facets-overview>';\n",
              "        facets_iframe.srcdoc = facets_html;\n",
              "         facets_iframe.id = \"\";\n",
              "         setTimeout(() => {\n",
              "           facets_iframe.setAttribute('height', facets_iframe.contentWindow.document.body.offsetHeight + 'px')\n",
              "         }, 1500)\n",
              "         </script>"
            ],
            "text/plain": [
              "<IPython.core.display.HTML object>"
            ]
          },
          "metadata": {
            "tags": []
          }
        }
      ]
    },
    {
      "cell_type": "code",
      "metadata": {
        "colab": {
          "base_uri": "https://localhost:8080/",
          "height": 235
        },
        "id": "9z8-G1nc9-Tp",
        "outputId": "4354a9c1-b292-418c-bc24-db8343a61d02"
      },
      "source": [
        "visualize_artifacts(schema_artifacts)"
      ],
      "execution_count": 21,
      "outputs": [
        {
          "output_type": "display_data",
          "data": {
            "text/html": [
              "<div>\n",
              "<style scoped>\n",
              "    .dataframe tbody tr th:only-of-type {\n",
              "        vertical-align: middle;\n",
              "    }\n",
              "\n",
              "    .dataframe tbody tr th {\n",
              "        vertical-align: top;\n",
              "    }\n",
              "\n",
              "    .dataframe thead th {\n",
              "        text-align: right;\n",
              "    }\n",
              "</style>\n",
              "<table border=\"1\" class=\"dataframe\">\n",
              "  <thead>\n",
              "    <tr style=\"text-align: right;\">\n",
              "      <th></th>\n",
              "      <th>Type</th>\n",
              "      <th>Presence</th>\n",
              "      <th>Valency</th>\n",
              "      <th>Domain</th>\n",
              "    </tr>\n",
              "    <tr>\n",
              "      <th>Feature name</th>\n",
              "      <th></th>\n",
              "      <th></th>\n",
              "      <th></th>\n",
              "      <th></th>\n",
              "    </tr>\n",
              "  </thead>\n",
              "  <tbody>\n",
              "    <tr>\n",
              "      <th>'body_mass_g'</th>\n",
              "      <td>FLOAT</td>\n",
              "      <td>required</td>\n",
              "      <td></td>\n",
              "      <td>-</td>\n",
              "    </tr>\n",
              "    <tr>\n",
              "      <th>'culmen_depth_mm'</th>\n",
              "      <td>FLOAT</td>\n",
              "      <td>required</td>\n",
              "      <td></td>\n",
              "      <td>-</td>\n",
              "    </tr>\n",
              "    <tr>\n",
              "      <th>'culmen_length_mm'</th>\n",
              "      <td>FLOAT</td>\n",
              "      <td>required</td>\n",
              "      <td></td>\n",
              "      <td>-</td>\n",
              "    </tr>\n",
              "    <tr>\n",
              "      <th>'flipper_length_mm'</th>\n",
              "      <td>FLOAT</td>\n",
              "      <td>required</td>\n",
              "      <td></td>\n",
              "      <td>-</td>\n",
              "    </tr>\n",
              "    <tr>\n",
              "      <th>'species'</th>\n",
              "      <td>INT</td>\n",
              "      <td>required</td>\n",
              "      <td></td>\n",
              "      <td>-</td>\n",
              "    </tr>\n",
              "  </tbody>\n",
              "</table>\n",
              "</div>"
            ],
            "text/plain": [
              "                      Type  Presence Valency Domain\n",
              "Feature name                                       \n",
              "'body_mass_g'        FLOAT  required              -\n",
              "'culmen_depth_mm'    FLOAT  required              -\n",
              "'culmen_length_mm'   FLOAT  required              -\n",
              "'flipper_length_mm'  FLOAT  required              -\n",
              "'species'              INT  required              -"
            ]
          },
          "metadata": {
            "tags": []
          }
        }
      ]
    },
    {
      "cell_type": "markdown",
      "metadata": {
        "id": "xOTC9ATu7y7Y"
      },
      "source": [
        "### Export the schema for future use"
      ]
    },
    {
      "cell_type": "code",
      "metadata": {
        "colab": {
          "base_uri": "https://localhost:8080/",
          "height": 35
        },
        "id": "KxGkmHgK6x4w",
        "outputId": "d466eb70-61af-47c2-931c-72c94b77a602"
      },
      "source": [
        "_schema_filename = 'schema.pbtxt'\n",
        "SCHEMA_PATH = 'schema'\n",
        "\n",
        "os.makedirs(SCHEMA_PATH, exist_ok=True)\n",
        "_generated_path = os.path.join(schema_artifacts[0].uri, _schema_filename)\n",
        "\n",
        "# Copy the 'schema.pbtxt' file from the artifact uri to a predefined path.\n",
        "shutil.copy(_generated_path, SCHEMA_PATH)"
      ],
      "execution_count": 22,
      "outputs": [
        {
          "output_type": "execute_result",
          "data": {
            "application/vnd.google.colaboratory.intrinsic+json": {
              "type": "string"
            },
            "text/plain": [
              "'schema/schema.pbtxt'"
            ]
          },
          "metadata": {
            "tags": []
          },
          "execution_count": 22
        }
      ]
    },
    {
      "cell_type": "markdown",
      "metadata": {
        "id": "cjSrOHMh-NNU"
      },
      "source": [
        "### Validate input examples and train an ML model"
      ]
    },
    {
      "cell_type": "code",
      "metadata": {
        "id": "t0Gotfuh-CzC"
      },
      "source": [
        "_trainer_module_file = 'penguin_trainer.py'"
      ],
      "execution_count": 23,
      "outputs": []
    },
    {
      "cell_type": "code",
      "metadata": {
        "id": "_t5EIGpK-q6u"
      },
      "source": [
        ""
      ],
      "execution_count": null,
      "outputs": []
    }
  ]
}